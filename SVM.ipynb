{
  "nbformat": 4,
  "nbformat_minor": 0,
  "metadata": {
    "colab": {
      "provenance": [],
      "authorship_tag": "ABX9TyPkmHFkfT+2aHpdcsVnZ0MI",
      "include_colab_link": true
    },
    "kernelspec": {
      "name": "python3",
      "display_name": "Python 3"
    },
    "language_info": {
      "name": "python"
    }
  },
  "cells": [
    {
      "cell_type": "markdown",
      "metadata": {
        "id": "view-in-github",
        "colab_type": "text"
      },
      "source": [
        "<a href=\"https://colab.research.google.com/github/aishwamurali/aishwamurali/blob/main/SVM.ipynb\" target=\"_parent\"><img src=\"https://colab.research.google.com/assets/colab-badge.svg\" alt=\"Open In Colab\"/></a>"
      ]
    },
    {
      "cell_type": "markdown",
      "source": [
        "<br>Author: Aishwarya Muralidharan Nair\n",
        "<br>CWID: 20015437\n",
        "<br>AAI 627 HW5\n",
        "<br>Date: 10/05/2022\n",
        "<br>Dataset: https://archive.ics.uci.edu/ml/datasets/Raisin+Dataset#"
      ],
      "metadata": {
        "id": "TvKavwVuNed2"
      }
    },
    {
      "cell_type": "markdown",
      "source": [
        "The dataset conatins data pertaining to two types of raisins and their features.\n",
        "\n",
        "Attribute Information:\n",
        "1. Area: Gives the number of pixels within the boundaries of the raisin.\n",
        "2. Perimeter: It measures the environment by calculating the distance between the boundaries of the raisin and the pixels around it.\n",
        "3. MajorAxisLength: Gives the length of the main axis, which is the longest line that can be drawn on the raisin.\n",
        "4. MinorAxisLength: Gives the length of the small axis, which is the shortest line that can be drawn on the raisin.\n",
        "5. Eccentricity: It gives a measure of the eccentricity of the ellipse, which has the same moments as raisins. \n",
        "6. ConvexArea: Gives the number of pixels of the smallest convex shell of the region formed by the raisin.\n",
        "7. Extent: Gives the ratio of the region formed by the raisin to the total pixels in the bounding box.\n",
        "8. Class: Kecimen and Besni raisin.\n",
        "\n",
        "Applying SVM to classify the raisins into Kecimen or Besni class based on given attributes."
      ],
      "metadata": {
        "id": "piVyB6esOIof"
      }
    },
    {
      "cell_type": "markdown",
      "source": [
        "Importing required libraries"
      ],
      "metadata": {
        "id": "M_FKeF6d_D0H"
      }
    },
    {
      "cell_type": "code",
      "execution_count": 1,
      "metadata": {
        "id": "5q0ZLuJLiegF"
      },
      "outputs": [],
      "source": [
        "import pandas as pd\n",
        "import numpy as np\n",
        "from sklearn.model_selection import train_test_split\n",
        "from sklearn.preprocessing import StandardScaler\n",
        "from sklearn.svm import SVC\n",
        "from sklearn.metrics import confusion_matrix, classification_report\n",
        "from sklearn.metrics import f1_score\n",
        "from sklearn.metrics import accuracy_score\n",
        "import matplotlib.pyplot as plt"
      ]
    },
    {
      "cell_type": "markdown",
      "source": [
        "Importing data from drive"
      ],
      "metadata": {
        "id": "qCT9dS8i_Qvo"
      }
    },
    {
      "cell_type": "code",
      "source": [
        "from google.colab import drive\n",
        "drive.mount('/content/drive')\n",
        "data = pd.read_csv(\"/content/drive/MyDrive/Colab Notebooks/Assignments/Raisin_Dataset.csv\")"
      ],
      "metadata": {
        "id": "6R3Mt6C3Zgcm",
        "colab": {
          "base_uri": "https://localhost:8080/",
          "height": 0
        },
        "outputId": "a53c65ac-cc95-49e1-dabf-27e2e5a9bc5b"
      },
      "execution_count": 2,
      "outputs": [
        {
          "output_type": "stream",
          "name": "stdout",
          "text": [
            "Mounted at /content/drive\n"
          ]
        }
      ]
    },
    {
      "cell_type": "code",
      "source": [
        "data.info()"
      ],
      "metadata": {
        "colab": {
          "base_uri": "https://localhost:8080/",
          "height": 0
        },
        "id": "uTWntBhNJM1H",
        "outputId": "48f94dc9-e55c-4810-be47-3a66717d5460"
      },
      "execution_count": 4,
      "outputs": [
        {
          "output_type": "stream",
          "name": "stdout",
          "text": [
            "<class 'pandas.core.frame.DataFrame'>\n",
            "RangeIndex: 900 entries, 0 to 899\n",
            "Data columns (total 8 columns):\n",
            " #   Column           Non-Null Count  Dtype  \n",
            "---  ------           --------------  -----  \n",
            " 0   Area             900 non-null    int64  \n",
            " 1   MajorAxisLength  900 non-null    float64\n",
            " 2   MinorAxisLength  900 non-null    float64\n",
            " 3   Eccentricity     900 non-null    float64\n",
            " 4   ConvexArea       900 non-null    int64  \n",
            " 5   Extent           900 non-null    float64\n",
            " 6   Perimeter        900 non-null    float64\n",
            " 7   Class            900 non-null    object \n",
            "dtypes: float64(5), int64(2), object(1)\n",
            "memory usage: 56.4+ KB\n"
          ]
        }
      ]
    },
    {
      "cell_type": "code",
      "source": [
        "data['Class'].describe()"
      ],
      "metadata": {
        "colab": {
          "base_uri": "https://localhost:8080/",
          "height": 0
        },
        "id": "AfK4bTbwJW6Y",
        "outputId": "8f1b8089-8033-4851-bbf6-bd60c72608b0"
      },
      "execution_count": 5,
      "outputs": [
        {
          "output_type": "execute_result",
          "data": {
            "text/plain": [
              "count         900\n",
              "unique          2\n",
              "top       Kecimen\n",
              "freq          450\n",
              "Name: Class, dtype: object"
            ]
          },
          "metadata": {},
          "execution_count": 5
        }
      ]
    },
    {
      "cell_type": "code",
      "source": [
        "data.columns"
      ],
      "metadata": {
        "colab": {
          "base_uri": "https://localhost:8080/",
          "height": 0
        },
        "id": "bUmljX27K0LH",
        "outputId": "45434553-a3d6-4617-f4c0-e9546ce1b4e6"
      },
      "execution_count": 6,
      "outputs": [
        {
          "output_type": "execute_result",
          "data": {
            "text/plain": [
              "Index(['Area', 'MajorAxisLength', 'MinorAxisLength', 'Eccentricity',\n",
              "       'ConvexArea', 'Extent', 'Perimeter', 'Class'],\n",
              "      dtype='object')"
            ]
          },
          "metadata": {},
          "execution_count": 6
        }
      ]
    },
    {
      "cell_type": "code",
      "source": [
        "data1 = data[data.Class==\"Besni\"]\n",
        "data2 = data[data.Class==\"Kecimen\"]"
      ],
      "metadata": {
        "id": "b2VAxn8eMyok"
      },
      "execution_count": 7,
      "outputs": []
    },
    {
      "cell_type": "markdown",
      "source": [
        "Visualizing the target with respect to different features\n",
        "1.   Major Axis Length vs Minor Axis Length"
      ],
      "metadata": {
        "id": "L_ls_DPsDiKi"
      }
    },
    {
      "cell_type": "code",
      "source": [
        "plt.scatter(data1[\"MajorAxisLength\"],data1[\"MinorAxisLength\"],color = \"blue\", marker = \"*\")\n",
        "plt.scatter(data2[\"MajorAxisLength\"],data2[\"MinorAxisLength\"],color = \"green\", marker = \"*\")\n",
        "plt.xlabel(\"MajorAxisLength\")\n",
        "plt.ylabel(\"MinorAxisLength\")"
      ],
      "metadata": {
        "colab": {
          "base_uri": "https://localhost:8080/",
          "height": 296
        },
        "id": "VninrIgfBqvC",
        "outputId": "ac81cb1b-7a61-4299-bfe2-ce9b4bb530d4"
      },
      "execution_count": 8,
      "outputs": [
        {
          "output_type": "execute_result",
          "data": {
            "text/plain": [
              "Text(0, 0.5, 'MinorAxisLength')"
            ]
          },
          "metadata": {},
          "execution_count": 8
        },
        {
          "output_type": "display_data",
          "data": {
            "text/plain": [
              "<Figure size 432x288 with 1 Axes>"
            ],
            "image/png": "[encoded data removed]"
          },
          "metadata": {
            "needs_background": "light"
          }
        }
      ]
    },
    {
      "cell_type": "markdown",
      "source": [
        "2.   Area vs Perimeter"
      ],
      "metadata": {
        "id": "Ye-MHUjyPn0E"
      }
    },
    {
      "cell_type": "code",
      "source": [
        "plt.scatter(data1[\"Area\"],data1[\"Perimeter\"],color = \"blue\", marker = \"*\")\n",
        "plt.scatter(data2[\"Area\"],data2[\"Perimeter\"],color = \"green\", marker = \"*\")\n",
        "plt.xlabel(\"Area\")\n",
        "plt.ylabel(\"Perimeter\")"
      ],
      "metadata": {
        "colab": {
          "base_uri": "https://localhost:8080/",
          "height": 296
        },
        "id": "hChKQOgxP6WO",
        "outputId": "7ed00e2f-efad-4f87-d890-417ff12537c6"
      },
      "execution_count": 9,
      "outputs": [
        {
          "output_type": "execute_result",
          "data": {
            "text/plain": [
              "Text(0, 0.5, 'Perimeter')"
            ]
          },
          "metadata": {},
          "execution_count": 9
        },
        {
          "output_type": "display_data",
          "data": {
            "text/plain": [
              "<Figure size 432x288 with 1 Axes>"
            ],
            "image/png": "[encoded data removed]"
          },
          "metadata": {
            "needs_background": "light"
          }
        }
      ]
    },
    {
      "cell_type": "markdown",
      "source": [
        "3.   Area vs Convex Area"
      ],
      "metadata": {
        "id": "0_kLB1e8rgMy"
      }
    },
    {
      "cell_type": "code",
      "source": [
        "plt.scatter(data1[\"Area\"],data1[\"ConvexArea\"],color = \"blue\", marker = \"*\")\n",
        "plt.scatter(data2[\"Area\"],data2[\"ConvexArea\"],color = \"green\", marker = \"*\")\n",
        "plt.xlabel(\"Area\")\n",
        "plt.ylabel(\"ConvexArea\")"
      ],
      "metadata": {
        "colab": {
          "base_uri": "https://localhost:8080/",
          "height": 296
        },
        "id": "oRZsbpr8QJSR",
        "outputId": "39eadfd9-ed0b-49f2-f6f0-359006255dfb"
      },
      "execution_count": 10,
      "outputs": [
        {
          "output_type": "execute_result",
          "data": {
            "text/plain": [
              "Text(0, 0.5, 'ConvexArea')"
            ]
          },
          "metadata": {},
          "execution_count": 10
        },
        {
          "output_type": "display_data",
          "data": {
            "text/plain": [
              "<Figure size 432x288 with 1 Axes>"
            ],
            "image/png": "[encoded data removed]"
          },
          "metadata": {
            "needs_background": "light"
          }
        }
      ]
    },
    {
      "cell_type": "markdown",
      "source": [
        "4.   Eccentricity vs Extent"
      ],
      "metadata": {
        "id": "JHMCHPzJrzKg"
      }
    },
    {
      "cell_type": "code",
      "source": [
        "plt.scatter(data1[\"Eccentricity\"],data1[\"Extent\"],color = \"blue\", marker = \"*\")\n",
        "plt.scatter(data2[\"Eccentricity\"],data2[\"Extent\"],color = \"green\", marker = \"*\")\n",
        "plt.xlabel(\"Eccentricity\")\n",
        "plt.ylabel(\"Extent\")"
      ],
      "metadata": {
        "colab": {
          "base_uri": "https://localhost:8080/",
          "height": 296
        },
        "id": "gUXKYT2cQjuk",
        "outputId": "784d1e84-189b-457f-a927-b5b61fba373b"
      },
      "execution_count": 11,
      "outputs": [
        {
          "output_type": "execute_result",
          "data": {
            "text/plain": [
              "Text(0, 0.5, 'Extent')"
            ]
          },
          "metadata": {},
          "execution_count": 11
        },
        {
          "output_type": "display_data",
          "data": {
            "text/plain": [
              "<Figure size 432x288 with 1 Axes>"
            ],
            "image/png": "[encoded data removed]"
          },
          "metadata": {
            "needs_background": "light"
          }
        }
      ]
    },
    {
      "cell_type": "markdown",
      "source": [
        "Splitting dataset into training set, target set and testing set"
      ],
      "metadata": {
        "id": "nM62hKUZ_VCJ"
      }
    },
    {
      "cell_type": "code",
      "source": [
        "X = data.iloc[:,0:7]\n",
        "Y = data.iloc[:,7]\n",
        "X_train, X_test, Y_train, Y_test = train_test_split(X, Y, random_state=10, test_size=0.3)"
      ],
      "metadata": {
        "id": "V481Qo-x0kyi"
      },
      "execution_count": 12,
      "outputs": []
    },
    {
      "cell_type": "markdown",
      "source": [
        "Scaling the data set using StandardScaler function from sklearn"
      ],
      "metadata": {
        "id": "k_MRsaLDC4LP"
      }
    },
    {
      "cell_type": "code",
      "source": [
        "scaled_X = StandardScaler()\n",
        "X_train = scaled_X.fit_transform(X_train)\n",
        "X_test = scaled_X.transform(X_test)"
      ],
      "metadata": {
        "id": "QIVMJ27zvBWU"
      },
      "execution_count": 13,
      "outputs": []
    },
    {
      "cell_type": "code",
      "source": [
        "print('Length of X_train is: \\n', len(X_train))\n",
        "print('Length of X_test is: \\n', len(X_test))\n",
        "print('Length of Y_train is: \\n', len(Y_train))\n",
        "print('Length of Y_test is: \\n', len(Y_test))"
      ],
      "metadata": {
        "colab": {
          "base_uri": "https://localhost:8080/",
          "height": 0
        },
        "id": "FJbGgu-Z_iKX",
        "outputId": "00cc1376-a45c-4f26-dc3e-4ff387b0cfaa"
      },
      "execution_count": 14,
      "outputs": [
        {
          "output_type": "stream",
          "name": "stdout",
          "text": [
            "Length of X_train is: \n",
            " 630\n",
            "Length of X_test is: \n",
            " 270\n",
            "Length of Y_train is: \n",
            " 630\n",
            "Length of Y_test is: \n",
            " 270\n"
          ]
        }
      ]
    },
    {
      "cell_type": "code",
      "source": [
        "svmodel = SVC(C=1, gamma = 0.05, kernel = \"rbf\")"
      ],
      "metadata": {
        "id": "Eb8d2qgW__yv"
      },
      "execution_count": 15,
      "outputs": []
    },
    {
      "cell_type": "code",
      "source": [
        "svmodel.fit(X_train, Y_train)"
      ],
      "metadata": {
        "colab": {
          "base_uri": "https://localhost:8080/",
          "height": 0
        },
        "id": "RiGdhmcPBhQG",
        "outputId": "9e128992-52aa-4b70-d2e8-036a53429174"
      },
      "execution_count": 16,
      "outputs": [
        {
          "output_type": "execute_result",
          "data": {
            "text/plain": [
              "SVC(C=1, gamma=0.05)"
            ]
          },
          "metadata": {},
          "execution_count": 16
        }
      ]
    },
    {
      "cell_type": "markdown",
      "source": [
        "Predicting the target value with the testing data"
      ],
      "metadata": {
        "id": "ruiPbFxFADDr"
      }
    },
    {
      "cell_type": "code",
      "source": [
        "Y_predict = svmodel.predict(X_test)\n",
        "len(Y_predict)"
      ],
      "metadata": {
        "colab": {
          "base_uri": "https://localhost:8080/",
          "height": 0
        },
        "id": "l2hTDjKrBpIT",
        "outputId": "ab491059-78f9-4700-aae0-3ceee3f3137b"
      },
      "execution_count": 17,
      "outputs": [
        {
          "output_type": "execute_result",
          "data": {
            "text/plain": [
              "270"
            ]
          },
          "metadata": {},
          "execution_count": 17
        }
      ]
    },
    {
      "cell_type": "markdown",
      "source": [
        "Confusion Matrix"
      ],
      "metadata": {
        "id": "Hlkoa4ouAJws"
      }
    },
    {
      "cell_type": "code",
      "source": [
        "conf_mat = confusion_matrix(Y_test, Y_predict)\n",
        "print(conf_mat)"
      ],
      "metadata": {
        "colab": {
          "base_uri": "https://localhost:8080/",
          "height": 0
        },
        "id": "sIuGZeCkB1UJ",
        "outputId": "f749218f-ac8c-41f2-868a-5532390dda19"
      },
      "execution_count": 18,
      "outputs": [
        {
          "output_type": "stream",
          "name": "stdout",
          "text": [
            "[[107  19]\n",
            " [ 10 134]]\n"
          ]
        }
      ]
    },
    {
      "cell_type": "markdown",
      "source": [
        "f1 score for each of the varieities"
      ],
      "metadata": {
        "id": "ZuYf5581APRR"
      }
    },
    {
      "cell_type": "code",
      "source": [
        "f1_score(Y_test, Y_predict, pos_label=\"Besni\")"
      ],
      "metadata": {
        "colab": {
          "base_uri": "https://localhost:8080/",
          "height": 0
        },
        "id": "YuV0wgnZHVgP",
        "outputId": "5c080f49-537e-4b95-c3be-8621f5b782da"
      },
      "execution_count": 19,
      "outputs": [
        {
          "output_type": "execute_result",
          "data": {
            "text/plain": [
              "0.8806584362139918"
            ]
          },
          "metadata": {},
          "execution_count": 19
        }
      ]
    },
    {
      "cell_type": "code",
      "source": [
        "f1_score(Y_test, Y_predict, pos_label=\"Kecimen\")"
      ],
      "metadata": {
        "colab": {
          "base_uri": "https://localhost:8080/",
          "height": 0
        },
        "id": "LV_NNDZ-LlFx",
        "outputId": "7ae74b80-431e-4bba-990e-c9f5f8d9be7f"
      },
      "execution_count": 20,
      "outputs": [
        {
          "output_type": "execute_result",
          "data": {
            "text/plain": [
              "0.9023569023569024"
            ]
          },
          "metadata": {},
          "execution_count": 20
        }
      ]
    },
    {
      "cell_type": "markdown",
      "source": [
        "Accuracy of the SVM model"
      ],
      "metadata": {
        "id": "DwEhDqlWAS9m"
      }
    },
    {
      "cell_type": "code",
      "source": [
        "print(accuracy_score(Y_test, Y_predict))"
      ],
      "metadata": {
        "colab": {
          "base_uri": "https://localhost:8080/",
          "height": 0
        },
        "id": "C3R7JzXICDdR",
        "outputId": "612a5470-4f8b-4e65-cc1d-15a0ae8f45c4"
      },
      "execution_count": 21,
      "outputs": [
        {
          "output_type": "stream",
          "name": "stdout",
          "text": [
            "0.8925925925925926\n"
          ]
        }
      ]
    },
    {
      "cell_type": "code",
      "source": [
        "print(classification_report(Y_test, Y_predict))"
      ],
      "metadata": {
        "colab": {
          "base_uri": "https://localhost:8080/",
          "height": 0
        },
        "id": "nm40QegNCXEl",
        "outputId": "4de506c6-4a82-4aad-ba3f-82ac425c14b0"
      },
      "execution_count": 22,
      "outputs": [
        {
          "output_type": "stream",
          "name": "stdout",
          "text": [
            "              precision    recall  f1-score   support\n",
            "\n",
            "       Besni       0.91      0.85      0.88       126\n",
            "     Kecimen       0.88      0.93      0.90       144\n",
            "\n",
            "    accuracy                           0.89       270\n",
            "   macro avg       0.90      0.89      0.89       270\n",
            "weighted avg       0.89      0.89      0.89       270\n",
            "\n"
          ]
        }
      ]
    },
    {
      "cell_type": "markdown",
      "source": [
        "Resulting model shows an accuracy of 89%"
      ],
      "metadata": {
        "id": "jHg_fSzVDMAH"
      }
    },
    {
      "cell_type": "code",
      "source": [],
      "metadata": {
        "id": "Yolcn16E14eo"
      },
      "execution_count": null,
      "outputs": []
    }
  ]
}