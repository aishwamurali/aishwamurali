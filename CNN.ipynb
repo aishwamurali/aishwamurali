{
  "nbformat": 4,
  "nbformat_minor": 0,
  "metadata": {
    "colab": {
      "provenance": [],
      "authorship_tag": "ABX9TyOvYcUQFniIPPITqIiyM/it",
      "include_colab_link": true
    },
    "kernelspec": {
      "name": "python3",
      "display_name": "Python 3"
    },
    "language_info": {
      "name": "python"
    }
  },
  "cells": [
    {
      "cell_type": "markdown",
      "metadata": {
        "id": "view-in-github",
        "colab_type": "text"
      },
      "source": [
        "<a href=\"https://colab.research.google.com/github/nair9/MachineLearning/blob/main/CNN.ipynb\" target=\"_parent\"><img src=\"https://colab.research.google.com/assets/colab-badge.svg\" alt=\"Open In Colab\"/></a>"
      ]
    },
    {
      "cell_type": "markdown",
      "source": [
        "The MNIST database (Modified National Institute of Standards and Technology database), a database of handwritten digits that is commonly used for training various image processing systems is used to implement a CNN model.\n",
        "\n",
        "Importing required libraries"
      ],
      "metadata": {
        "id": "s6wHmjzc1fuo"
      }
    },
    {
      "cell_type": "code",
      "execution_count": null,
      "metadata": {
        "id": "EMa4FoAYyqHp"
      },
      "outputs": [],
      "source": [
        "import pandas as pd\n",
        "import numpy as np\n",
        "from tensorflow import keras\n",
        "from tensorflow.keras import layers\n",
        "import matplotlib.pyplot as plt"
      ]
    },
    {
      "cell_type": "markdown",
      "source": [
        "Importing data from drive"
      ],
      "metadata": {
        "id": "EZYgp2Xj3ShB"
      }
    },
    {
      "cell_type": "code",
      "source": [
        "(X_train, Y_train),(X_test, Y_test) = keras.datasets.mnist.load_data()\n",
        "print(\"Length of X_Train\",len(X_train))\n",
        "print(\"Length of X_Test\",len(X_test))\n",
        "print(\"Length of Y_Train\",len(Y_train))\n",
        "print(\"Length of Y_Test\",len(Y_test))\n",
        "print(X_train.shape)\n",
        "print(Y_train.shape[0])\n",
        "print(X_test.shape)\n",
        "print(Y_test.shape[0])"
      ],
      "metadata": {
        "id": "-kt5I2XeCUjJ",
        "colab": {
          "base_uri": "https://localhost:8080/"
        },
        "outputId": "e4e89e4e-bb4c-4931-994a-cddc1f07b4d3"
      },
      "execution_count": null,
      "outputs": [
        {
          "output_type": "stream",
          "name": "stdout",
          "text": [
            "Downloading data from https://storage.googleapis.com/tensorflow/tf-keras-datasets/mnist.npz\n",
            "11490434/11490434 [==============================] - 0s 0us/step\n",
            "Length of X_Train 60000\n",
            "Length of X_Test 10000\n",
            "Length of Y_Train 60000\n",
            "Length of Y_Test 10000\n",
            "(60000, 28, 28)\n",
            "60000\n",
            "(10000, 28, 28)\n",
            "10000\n"
          ]
        }
      ]
    },
    {
      "cell_type": "code",
      "source": [
        "num_classes = 10\n",
        "input_shape = (28, 28, 1)"
      ],
      "metadata": {
        "id": "RGGGHPkQCZIl"
      },
      "execution_count": null,
      "outputs": []
    },
    {
      "cell_type": "code",
      "source": [
        "X_train = X_train.astype(\"float32\") / 255\n",
        "X_test = X_test.astype(\"float32\") / 255"
      ],
      "metadata": {
        "id": "LqlqkfJdK5HG"
      },
      "execution_count": null,
      "outputs": []
    },
    {
      "cell_type": "code",
      "source": [
        "X_train = np.expand_dims(X_train, -1)\n",
        "X_test = np.expand_dims(X_test, -1)\n",
        "Y_train = keras.utils.to_categorical(Y_train, num_classes)\n",
        "Y_test = keras.utils.to_categorical(Y_test, num_classes)"
      ],
      "metadata": {
        "id": "MsE14hE5LEgb"
      },
      "execution_count": null,
      "outputs": []
    },
    {
      "cell_type": "code",
      "source": [
        "plt.subplot(231)\n",
        "plt.imshow(X_train[0, :, :, 0])\n",
        "print(Y_train[0],end=' ')\n",
        "plt.subplot(233)\n",
        "plt.imshow(X_train[1, :, :, 0])\n",
        "print(Y_train[1])"
      ],
      "metadata": {
        "colab": {
          "base_uri": "https://localhost:8080/",
          "height": 166
        },
        "id": "DMgkUyz1MqVj",
        "outputId": "e8af64b1-368b-4eef-82bc-6b60ca48c337"
      },
      "execution_count": null,
      "outputs": [
        {
          "output_type": "stream",
          "name": "stdout",
          "text": [
            "[0. 0. 0. 0. 0. 1. 0. 0. 0. 0.] [1. 0. 0. 0. 0. 0. 0. 0. 0. 0.]\n"
          ]
        },
        {
          "output_type": "display_data",
          "data": {
            "text/plain": [
              "<Figure size 432x288 with 2 Axes>"
            ],
            "image/png": "[encoded data removed]"
          },
          "metadata": {
            "needs_background": "light"
          }
        }
      ]
    },
    {
      "cell_type": "markdown",
      "source": [
        "Building CNN Model"
      ],
      "metadata": {
        "id": "IFTBARE54HK-"
      }
    },
    {
      "cell_type": "code",
      "source": [
        "model = keras.Sequential(\n",
        "    [\n",
        "        keras.Input(shape=input_shape),\n",
        "        layers.Conv2D(32, kernel_size=(3, 3), activation=\"relu\"),\n",
        "        layers.MaxPooling2D(pool_size=(2, 2)),\n",
        "        layers.Conv2D(64, kernel_size=(3, 3), activation=\"relu\"),\n",
        "        layers.MaxPooling2D(pool_size=(2, 2)),\n",
        "        layers.Flatten(),\n",
        "        layers.Dropout(0.5),\n",
        "        layers.Dense(num_classes, activation=\"softmax\"),\n",
        "    ]\n",
        ")\n",
        "\n",
        "model.summary()"
      ],
      "metadata": {
        "colab": {
          "base_uri": "https://localhost:8080/"
        },
        "id": "7G_VmPkIpien",
        "outputId": "196dbdde-daf7-456c-a4ba-91fea66f407f"
      },
      "execution_count": null,
      "outputs": [
        {
          "output_type": "stream",
          "name": "stdout",
          "text": [
            "Model: \"sequential\"\n",
            "_________________________________________________________________\n",
            " Layer (type)                Output Shape              Param #   \n",
            "=================================================================\n",
            " conv2d (Conv2D)             (None, 26, 26, 32)        320       \n",
            "                                                                 \n",
            " max_pooling2d (MaxPooling2D  (None, 13, 13, 32)       0         \n",
            " )                                                               \n",
            "                                                                 \n",
            " conv2d_1 (Conv2D)           (None, 11, 11, 64)        18496     \n",
            "                                                                 \n",
            " max_pooling2d_1 (MaxPooling  (None, 5, 5, 64)         0         \n",
            " 2D)                                                             \n",
            "                                                                 \n",
            " flatten (Flatten)           (None, 1600)              0         \n",
            "                                                                 \n",
            " dropout (Dropout)           (None, 1600)              0         \n",
            "                                                                 \n",
            " dense (Dense)               (None, 10)                16010     \n",
            "                                                                 \n",
            "=================================================================\n",
            "Total params: 34,826\n",
            "Trainable params: 34,826\n",
            "Non-trainable params: 0\n",
            "_________________________________________________________________\n"
          ]
        }
      ]
    },
    {
      "cell_type": "markdown",
      "source": [
        "Fitting the dataset to the model"
      ],
      "metadata": {
        "id": "ER3fGc1g4Uq8"
      }
    },
    {
      "cell_type": "code",
      "source": [
        "batch_size = 128\n",
        "epochs = 15\n",
        "\n",
        "model.compile(loss=\"categorical_crossentropy\", optimizer=\"adam\", metrics=[\"accuracy\"])\n",
        "\n",
        "model.fit(X_train, Y_train, batch_size=batch_size, epochs=epochs, validation_split=0.1)"
      ],
      "metadata": {
        "colab": {
          "base_uri": "https://localhost:8080/"
        },
        "id": "cWxnwzlkrUui",
        "outputId": "a8547a25-b1e6-4a42-8cdb-9773996644b6"
      },
      "execution_count": null,
      "outputs": [
        {
          "output_type": "stream",
          "name": "stdout",
          "text": [
            "Epoch 1/15\n",
            "422/422 [==============================] - 50s 116ms/step - loss: 0.3612 - accuracy: 0.8898 - val_loss: 0.0826 - val_accuracy: 0.9783\n",
            "Epoch 2/15\n",
            "422/422 [==============================] - 50s 119ms/step - loss: 0.1149 - accuracy: 0.9639 - val_loss: 0.0558 - val_accuracy: 0.9852\n",
            "Epoch 3/15\n",
            "422/422 [==============================] - 48s 113ms/step - loss: 0.0850 - accuracy: 0.9734 - val_loss: 0.0450 - val_accuracy: 0.9877\n",
            "Epoch 4/15\n",
            "422/422 [==============================] - 48s 114ms/step - loss: 0.0703 - accuracy: 0.9778 - val_loss: 0.0404 - val_accuracy: 0.9897\n",
            "Epoch 5/15\n",
            "422/422 [==============================] - 50s 118ms/step - loss: 0.0628 - accuracy: 0.9801 - val_loss: 0.0386 - val_accuracy: 0.9902\n",
            "Epoch 6/15\n",
            "422/422 [==============================] - 49s 117ms/step - loss: 0.0570 - accuracy: 0.9825 - val_loss: 0.0359 - val_accuracy: 0.9908\n",
            "Epoch 7/15\n",
            "422/422 [==============================] - 47s 112ms/step - loss: 0.0526 - accuracy: 0.9832 - val_loss: 0.0360 - val_accuracy: 0.9902\n",
            "Epoch 8/15\n",
            "422/422 [==============================] - 48s 113ms/step - loss: 0.0467 - accuracy: 0.9856 - val_loss: 0.0336 - val_accuracy: 0.9908\n",
            "Epoch 9/15\n",
            "422/422 [==============================] - 51s 120ms/step - loss: 0.0442 - accuracy: 0.9860 - val_loss: 0.0334 - val_accuracy: 0.9898\n",
            "Epoch 10/15\n",
            "422/422 [==============================] - 48s 113ms/step - loss: 0.0442 - accuracy: 0.9861 - val_loss: 0.0312 - val_accuracy: 0.9913\n",
            "Epoch 11/15\n",
            "422/422 [==============================] - 48s 113ms/step - loss: 0.0405 - accuracy: 0.9871 - val_loss: 0.0300 - val_accuracy: 0.9902\n",
            "Epoch 12/15\n",
            "422/422 [==============================] - 51s 120ms/step - loss: 0.0402 - accuracy: 0.9869 - val_loss: 0.0299 - val_accuracy: 0.9915\n",
            "Epoch 13/15\n",
            "422/422 [==============================] - 48s 113ms/step - loss: 0.0360 - accuracy: 0.9883 - val_loss: 0.0295 - val_accuracy: 0.9912\n",
            "Epoch 14/15\n",
            "422/422 [==============================] - 48s 114ms/step - loss: 0.0347 - accuracy: 0.9890 - val_loss: 0.0291 - val_accuracy: 0.9920\n",
            "Epoch 15/15\n",
            "422/422 [==============================] - 47s 112ms/step - loss: 0.0322 - accuracy: 0.9893 - val_loss: 0.0287 - val_accuracy: 0.9917\n"
          ]
        },
        {
          "output_type": "execute_result",
          "data": {
            "text/plain": [
              "<keras.callbacks.History at 0x7f082ef3ae80>"
            ]
          },
          "metadata": {},
          "execution_count": 8
        }
      ]
    },
    {
      "cell_type": "markdown",
      "source": [
        "Model evaluation"
      ],
      "metadata": {
        "id": "NtOnURwo4fy7"
      }
    },
    {
      "cell_type": "code",
      "source": [
        "score = model.evaluate(X_test, Y_test, verbose=0)\n",
        "print(\"Test loss:\", score[0])\n",
        "print(\"Test accuracy:\", score[1])"
      ],
      "metadata": {
        "colab": {
          "base_uri": "https://localhost:8080/"
        },
        "id": "bSFnLWsJrXy4",
        "outputId": "08b0beed-dadd-476c-a503-30934f6608ce"
      },
      "execution_count": null,
      "outputs": [
        {
          "output_type": "stream",
          "name": "stdout",
          "text": [
            "Test loss: 0.02634885534644127\n",
            "Test accuracy: 0.9909999966621399\n"
          ]
        }
      ]
    },
    {
      "cell_type": "code",
      "source": [
        "plt.subplot(231)\n",
        "plt.imshow(X_test[0, :, :, 0])\n",
        "print(Y_test[0],end=' ')\n",
        "plt.subplot(233)\n",
        "plt.imshow(X_test[1, :, :, 0])\n",
        "print(Y_test[1])"
      ],
      "metadata": {
        "colab": {
          "base_uri": "https://localhost:8080/",
          "height": 166
        },
        "id": "rt0V1_smtmCM",
        "outputId": "be4acbd3-1f34-4e64-9c1b-c27ed64bc377"
      },
      "execution_count": null,
      "outputs": [
        {
          "output_type": "stream",
          "name": "stdout",
          "text": [
            "[0. 0. 0. 0. 0. 0. 0. 1. 0. 0.] [0. 0. 1. 0. 0. 0. 0. 0. 0. 0.]\n"
          ]
        },
        {
          "output_type": "display_data",
          "data": {
            "text/plain": [
              "<Figure size 432x288 with 2 Axes>"
            ],
            "image/png": "[encoded data removed]"
          },
          "metadata": {
            "needs_background": "light"
          }
        }
      ]
    },
    {
      "cell_type": "markdown",
      "source": [
        "The CNN Model gives an accuracy of 99% with a loss of 2.5% on the MNIST Dataset"
      ],
      "metadata": {
        "id": "yJKSeZcVNnuW"
      }
    }
  ]
}